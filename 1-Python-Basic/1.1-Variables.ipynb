{
 "cells": [
  {
   "cell_type": "markdown",
   "metadata": {},
   "source": [
    "# Simple Calculator:"
   ]
  },
  {
   "cell_type": "code",
   "execution_count": 4,
   "metadata": {},
   "outputs": [
    {
     "name": "stdout",
     "output_type": "stream",
     "text": [
      "Addition: 15.0\n",
      "Substraction: 5.0\n",
      "Multiply: 50.0\n",
      "Division: 2.0\n"
     ]
    }
   ],
   "source": [
    "num1 = float(input(\"Enter the Number 1:\"))\n",
    "num2 = float(input(\"Enter the Number 2:\"))\n",
    "\n",
    "\n",
    "sum = num1+num2\n",
    "sub = num1-num2\n",
    "mul = num1*num2\n",
    "div = num1/num2\n",
    "\n",
    "\n",
    "print(\"Addition:\",sum)\n",
    "print(\"Substraction:\", sub)\n",
    "print(\"Multiply:\", mul)\n",
    "print(\"Division:\",div)"
   ]
  }
 ],
 "metadata": {
  "kernelspec": {
   "display_name": ".venv",
   "language": "python",
   "name": "python3"
  },
  "language_info": {
   "codemirror_mode": {
    "name": "ipython",
    "version": 3
   },
   "file_extension": ".py",
   "mimetype": "text/x-python",
   "name": "python",
   "nbconvert_exporter": "python",
   "pygments_lexer": "ipython3",
   "version": "3.12.3"
  }
 },
 "nbformat": 4,
 "nbformat_minor": 2
}
